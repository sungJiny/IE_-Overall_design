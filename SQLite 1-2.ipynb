{
 "cells": [
  {
   "cell_type": "code",
   "execution_count": null,
   "metadata": {},
   "outputs": [],
   "source": [
    "cur = engine.execute(\n",
    "    select([users.c.name, addr.c.email]).select_from(users.join(addr)))\n",
    "cur.fetchall()"
   ]
  },
  {
   "cell_type": "code",
   "execution_count": null,
   "metadata": {},
   "outputs": [],
   "source": [
    "from sqlalchemy import create_engine, Column, Integer, String, ForeignKey\n",
    "from sqlalchemy.ext.declarative import declarative_base"
   ]
  },
  {
   "cell_type": "code",
   "execution_count": null,
   "metadata": {},
   "outputs": [],
   "source": [
    "engine = create_engine('sqlite:///ex4db', echo=True)"
   ]
  },
  {
   "cell_type": "code",
   "execution_count": null,
   "metadata": {},
   "outputs": [],
   "source": [
    "base = declarative_base()"
   ]
  },
  {
   "cell_type": "code",
   "execution_count": null,
   "metadata": {},
   "outputs": [],
   "source": [
    "# Metadata Clas에 등록된(생성한) table  객체 초기화 할때\n",
    "base.metadata.clear()"
   ]
  },
  {
   "cell_type": "code",
   "execution_count": null,
   "metadata": {},
   "outputs": [],
   "source": [
    "class User(base):\n",
    "    __tablename__ = 'User'\n",
    "    \n",
    "    uid = Column('uid', Integer, primary_key = True)\n",
    "    name = Column('name', String, nullable=True)\n",
    "    password = Column('pass', String, nullable=True)\n",
    "    \n",
    "    def __repr__(self):\n",
    "        return 'UID={0}, Name={1}, PASS={2}'.format(\n",
    "            self.uid, self.name, self.password)\n",
    "    "
   ]
  },
  {
   "cell_type": "code",
   "execution_count": null,
   "metadata": {},
   "outputs": [],
   "source": [
    "user1 = User(name='test', password='testtest')"
   ]
  },
  {
   "cell_type": "code",
   "execution_count": null,
   "metadata": {},
   "outputs": [],
   "source": [
    "user1"
   ]
  },
  {
   "cell_type": "code",
   "execution_count": null,
   "metadata": {},
   "outputs": [],
   "source": [
    "from sqlalchemy.orm import sessionmaker"
   ]
  },
  {
   "cell_type": "code",
   "execution_count": null,
   "metadata": {},
   "outputs": [],
   "source": [
    "Session = sessionmaker(bind=engine)\n",
    "session = Session()"
   ]
  },
  {
   "cell_type": "code",
   "execution_count": null,
   "metadata": {},
   "outputs": [],
   "source": [
    "# base.metadata.create_all(bind=engine)"
   ]
  },
  {
   "cell_type": "code",
   "execution_count": null,
   "metadata": {},
   "outputs": [],
   "source": [
    "session.add(user1)"
   ]
  },
  {
   "cell_type": "code",
   "execution_count": null,
   "metadata": {},
   "outputs": [],
   "source": [
    "session.commit()"
   ]
  },
  {
   "cell_type": "code",
   "execution_count": null,
   "metadata": {},
   "outputs": [],
   "source": [
    "user1.name = '개똥이이'"
   ]
  },
  {
   "cell_type": "code",
   "execution_count": null,
   "metadata": {},
   "outputs": [],
   "source": [
    "session.dirty"
   ]
  },
  {
   "cell_type": "code",
   "execution_count": null,
   "metadata": {},
   "outputs": [],
   "source": [
    "session.is_modified(user1)"
   ]
  },
  {
   "cell_type": "code",
   "execution_count": null,
   "metadata": {},
   "outputs": [],
   "source": [
    "session.commit()"
   ]
  },
  {
   "cell_type": "code",
   "execution_count": null,
   "metadata": {},
   "outputs": [],
   "source": [
    "session.add_all([User(name='test2', password='asdfasdf'),\n",
    "               User(name='test3', password='asdffdsad')])"
   ]
  },
  {
   "cell_type": "code",
   "execution_count": null,
   "metadata": {},
   "outputs": [],
   "source": [
    "cur = session.query(User)\n",
    "[_ for _ in cur]"
   ]
  },
  {
   "cell_type": "code",
   "execution_count": null,
   "metadata": {},
   "outputs": [],
   "source": [
    "[_ for _ in session.query(User).filter(User.name.like('test%'))]"
   ]
  },
  {
   "cell_type": "code",
   "execution_count": null,
   "metadata": {},
   "outputs": [],
   "source": [
    "# class Artist(base):\n",
    "#     __tablename__ = 'ARTIST'\n",
    "    \n",
    "#     pk = Column('ID', Integer, primary_key=True)\n",
    "#     name = Column('Name', String)\n",
    "    \n",
    "#     def __repr__(self):\n",
    "#         return 'PK:{0}, Name:{1}'.format(self.pk, self.name)\n",
    "    \n",
    "# class Genre(base):\n",
    "#     __tablename__ = 'GENRE'\n",
    "    \n",
    "#     pk = Column('ID', Integer, primary_key=True)\n",
    "#     name = Column('Name', String)\n",
    "    \n",
    "#     def __repr__(self):\n",
    "#         return 'PK:{0}, Name:{1}'.format(self.pk, self.name)\n",
    "    \n",
    "# class Album(base):\n",
    "#     __tablename__ = 'ALBUM'\n",
    "    \n",
    "#     pk = Column('ID', Integer, primary_key=True)\n",
    "#     name = Column('Name', String)\n",
    "#     fk = Column('FK', Integer, ForeignKey('ARTIST.ID'))\n",
    "    \n",
    "#     def __repr__(self):\n",
    "#         return 'PK:{0}, Name:{1}, FK:{2}'.format(self.pk, self.name, self.fk)\n",
    "    \n",
    "# class Track(base):\n",
    "#     __tablename__ = 'TRACK'\n",
    "    \n",
    "#     pk = Column('ID', Integer, primary_key=True)\n",
    "#     name = Column('Name', String)\n",
    "#     fk1 = Column('FK', Integer, ForeignKey('ALBUM.ID'))\n",
    "#     fk2 = Column('FK', Integer, ForeignKey('GENRE.ID'))\n",
    "    \n",
    "#     def __repr__(self):\n",
    "#         return 'PK:{0}, Name:{1}, FK1:{2}, FK:{3}'.format(self.pk, self.name, self.fk1, self.fk2)\n",
    "    \n"
   ]
  },
  {
   "cell_type": "code",
   "execution_count": null,
   "metadata": {},
   "outputs": [],
   "source": [
    "base.metadata.clear()"
   ]
  },
  {
   "cell_type": "code",
   "execution_count": null,
   "metadata": {},
   "outputs": [],
   "source": [
    "from sqlalchemy import create_engine, Column, Integer, String, ForeignKey\n",
    "from sqlalchemy.ext.declarative import declarative_base\n",
    "from sqlalchemy.orm import sessionmaker\n",
    "\n",
    "engine = create_engine('sqlite:///ex5db', echo=True)\n",
    "base = declarative_base()\n",
    "Session = sessionmaker(bind=engine)\n",
    "session = Session()"
   ]
  },
  {
   "cell_type": "code",
   "execution_count": null,
   "metadata": {},
   "outputs": [],
   "source": [
    "class Artist(base):\n",
    "    __tablename__ = \"Artist\"\n",
    "    \n",
    "    id = Column(Integer, primary_key=True)\n",
    "    name = Column(String)\n",
    "    \n",
    "class Album(base):\n",
    "    __tablename__ = \"Album\"\n",
    "    \n",
    "    id = Column(Integer, primary_key=True)\n",
    "    title = Column(String)\n",
    "    artist_id = Column(Integer, ForeignKey('Artist.id'))\n",
    "    \n",
    "class Genre(base):\n",
    "    __tablename__ = \"Genre\"\n",
    "    \n",
    "    id = Column(Integer, primary_key=True)\n",
    "    name = Column(String)\n",
    "    \n",
    "class Track(base):\n",
    "    __tablename__ = \"Track\"\n",
    "    \n",
    "    id = Column(Integer, primary_key=True)\n",
    "    name = Column(String)\n",
    "    length = Column(String)\n",
    "    rating = Column(Integer)\n",
    "    count = Column(Integer)\n",
    "    album_id = Column(Integer, ForeignKey('Album.id'))\n",
    "    genre_id = Column(Integer, ForeignKey('Genre.id'))"
   ]
  },
  {
   "cell_type": "code",
   "execution_count": null,
   "metadata": {},
   "outputs": [],
   "source": [
    "artist1 = Artist(name=\"Led Zeppllin\")\n",
    "artist2 = Artist(name=\"AC/DC\")\n",
    "\n",
    "session.add_all([artist1, artist2])\n",
    "session.commit()"
   ]
  },
  {
   "cell_type": "code",
   "execution_count": null,
   "metadata": {},
   "outputs": [],
   "source": [
    "album = [Album(title=\"IV\", artist_id=artist1.id),\n",
    "        Album(title=\"Who Made Who\", artist_id=artist2.id)]"
   ]
  },
  {
   "cell_type": "code",
   "execution_count": null,
   "metadata": {},
   "outputs": [],
   "source": [
    "session.add_all(album)"
   ]
  },
  {
   "cell_type": "code",
   "execution_count": null,
   "metadata": {},
   "outputs": [],
   "source": [
    "session.commit()"
   ]
  },
  {
   "cell_type": "code",
   "execution_count": null,
   "metadata": {},
   "outputs": [],
   "source": [
    "base.metadata.tables"
   ]
  },
  {
   "cell_type": "code",
   "execution_count": null,
   "metadata": {},
   "outputs": [],
   "source": [
    "base.metadata.clear()"
   ]
  },
  {
   "cell_type": "code",
   "execution_count": null,
   "metadata": {},
   "outputs": [],
   "source": [
    "from sqlalchemy.orm import relationship, backref, sessionmaker\n",
    "from sqlalchemy import create_engine, Column, Integer, String, ForeignKey\n",
    "from sqlalchemy.ext.declarative import declarative_base"
   ]
  },
  {
   "cell_type": "code",
   "execution_count": null,
   "metadata": {},
   "outputs": [],
   "source": [
    "engine = create_engine('sqlite:///ex5db', echo=True)\n",
    "base = declarative_base()\n",
    "Session = sessionmaker(bind=engine)\n",
    "session = Session()"
   ]
  },
  {
   "cell_type": "code",
   "execution_count": null,
   "metadata": {},
   "outputs": [],
   "source": [
    "class Artist(base):\n",
    "    __tablename__ = 'Artist'\n",
    "    \n",
    "    pk = Column('ID', Integer, primary_key=True)\n",
    "    name = Column('NAME', String)\n",
    "    albumlist = relationship('Album', back_populates='artist')\n",
    "    \n",
    "    def __repr__(self):\n",
    "        return 'PK:{0}, NAME:{1}'.format(self.pk, self.name)\n",
    "    \n",
    "class Genre(base):\n",
    "    __tablename__ = 'Genre'\n",
    "    \n",
    "    pk = Column('ID', Integer, primary_key=True)\n",
    "    name = Column('NAME', String)\n",
    "    tracklist = relationship('Track', back_populates='genre')\n",
    "    \n",
    "    def __repr__(self):\n",
    "        return 'PK:{0}, NAME:{1}'.format(self.pk, self.name)\n",
    "    \n",
    "class Album(base):\n",
    "    __tablename__ = 'Album'\n",
    "    \n",
    "    pk = Column('ID', Integer, primary_key=True)\n",
    "    name = Column('NAME', String)\n",
    "    fk = Column('FK', Integer, ForeignKey('Artist.ID'))\n",
    "    artist = relationship('Artist', back_populates='albumlist',\n",
    "                          uselist=False)\n",
    "    tracklist = relationship('Track', back_populates='album')\n",
    "    \n",
    "    def __repr__(self):\n",
    "        return 'PK:{0}, NAME:{1}, FK:{2}'.format(self.pk, self.name, self.fk)\n",
    "    \n",
    "class Track(base):\n",
    "    __tablename__ = 'Track'\n",
    "    \n",
    "    pk = Column('ID', Integer, primary_key=True)\n",
    "    name = Column('NAME', String)\n",
    "    fk1 = Column('FK1', Integer, ForeignKey('Album.ID'))\n",
    "    fk2 = Column('FK2', Integer, ForeignKey('Genre.ID'))\n",
    "    album = relationship('Album', back_populates='tracklist', uselist = False)\n",
    "    genre = relationship('Genre', back_populates='tracklist', uselist = False)\n",
    "    \n",
    "    \n",
    "    def __repr__(self):\n",
    "        return 'PK:{0}, NAME:{1}, FK1:{2}, FK2:{3}'.format(self.pk, self.name, self.fk1, self.fk2)\n",
    "    \n"
   ]
  },
  {
   "cell_type": "code",
   "execution_count": 1,
   "metadata": {},
   "outputs": [],
   "source": [
    "from sqlalchemy.orm import relationship, backref, sessionmaker\n",
    "from sqlalchemy import create_engine, Column, Integer, String, ForeignKey\n",
    "from sqlalchemy.ext.declarative import declarative_base"
   ]
  },
  {
   "cell_type": "code",
   "execution_count": 2,
   "metadata": {},
   "outputs": [],
   "source": [
    "engine = create_engine('sqlite:///playlist.db', echo=True)\n",
    "base = declarative_base()\n",
    "Session = sessionmaker(bind=engine)\n",
    "session = Session()"
   ]
  },
  {
   "cell_type": "code",
   "execution_count": 3,
   "metadata": {},
   "outputs": [],
   "source": [
    "class Artist(base):\n",
    "    __tablename__ = 'Artist'\n",
    "    \n",
    "    pk = Column('id', Integer, primary_key=True)\n",
    "    name = Column('title', String)\n",
    "    albumlist = relationship('Album', back_populates='artist')\n",
    "    \n",
    "    def __repr__(self):\n",
    "        return 'PK:{0}, NAME:{1}'.format(self.pk, self.name)\n",
    "    \n",
    "class Genre(base):\n",
    "    __tablename__ = 'Genre'\n",
    "    \n",
    "    pk = Column('id', Integer, primary_key=True)\n",
    "    name = Column('title', String)\n",
    "    tracklist = relationship('Track', back_populates='genre')\n",
    "    \n",
    "    def __repr__(self):\n",
    "        return 'PK:{0}, NAME:{1}'.format(self.pk, self.name)\n",
    "    \n",
    "class Album(base):\n",
    "    __tablename__ = 'Album'\n",
    "    \n",
    "    pk = Column('id', Integer, primary_key=True)\n",
    "    name = Column('title', String)\n",
    "    fk = Column('Artist_id', Integer, ForeignKey('Artist.id'))\n",
    "    artist = relationship('Artist', back_populates='albumlist',\n",
    "                          uselist=False)\n",
    "    tracklist = relationship('Track', back_populates='album')\n",
    "    \n",
    "    def __repr__(self):\n",
    "        return 'PK:{0}, NAME:{1}, FK:{2}'.format(self.pk, self.name, self.fk)\n",
    "    \n",
    "class Track(base):\n",
    "    __tablename__ = 'Track'\n",
    "    \n",
    "    pk = Column('id', Integer, primary_key=True)\n",
    "    name = Column('title', String)\n",
    "    fk1 = Column('Album_id', Integer, ForeignKey('Album.id'))\n",
    "    fk2 = Column('Genre_id', Integer, ForeignKey('Genre.id'))\n",
    "    album = relationship('Album', back_populates='tracklist', uselist = False)\n",
    "    genre = relationship('Genre', back_populates='tracklist', uselist = False)\n",
    "    \n",
    "    \n",
    "    def __repr__(self):\n",
    "        return 'PK:{0}, NAME:{1}, FK1:{2}, FK2:{3}'.format(self.pk, self.name, self.fk1, self.fk2)\n",
    "    \n"
   ]
  },
  {
   "cell_type": "code",
   "execution_count": 4,
   "metadata": {
    "scrolled": false
   },
   "outputs": [
    {
     "name": "stdout",
     "output_type": "stream",
     "text": [
      "2020-07-15 12:05:24,909 INFO sqlalchemy.engine.base.Engine SELECT CAST('test plain returns' AS VARCHAR(60)) AS anon_1\n",
      "2020-07-15 12:05:24,912 INFO sqlalchemy.engine.base.Engine ()\n",
      "2020-07-15 12:05:24,914 INFO sqlalchemy.engine.base.Engine SELECT CAST('test unicode returns' AS VARCHAR(60)) AS anon_1\n",
      "2020-07-15 12:05:24,915 INFO sqlalchemy.engine.base.Engine ()\n",
      "2020-07-15 12:05:24,916 INFO sqlalchemy.engine.base.Engine BEGIN (implicit)\n",
      "2020-07-15 12:05:24,917 INFO sqlalchemy.engine.base.Engine SELECT \"Genre\".id AS \"Genre_id\", \"Genre\".title AS \"Genre_title\" \n",
      "FROM \"Genre\"\n",
      "2020-07-15 12:05:24,918 INFO sqlalchemy.engine.base.Engine ()\n"
     ]
    }
   ],
   "source": [
    "genrelist = session.query(Genre).all()"
   ]
  },
  {
   "cell_type": "code",
   "execution_count": 7,
   "metadata": {},
   "outputs": [],
   "source": [
    "# session.add(Track(name='TEST'),\n",
    "#            fk1 = genrelist[1].tracklist[0].album.pk,\n",
    "#            fk2=genrelist[1].pk)"
   ]
  },
  {
   "cell_type": "code",
   "execution_count": null,
   "metadata": {},
   "outputs": [],
   "source": []
  }
 ],
 "metadata": {
  "kernelspec": {
   "display_name": "Python 3",
   "language": "python",
   "name": "python3"
  },
  "language_info": {
   "codemirror_mode": {
    "name": "ipython",
    "version": 3
   },
   "file_extension": ".py",
   "mimetype": "text/x-python",
   "name": "python",
   "nbconvert_exporter": "python",
   "pygments_lexer": "ipython3",
   "version": "3.8.1"
  }
 },
 "nbformat": 4,
 "nbformat_minor": 4
}
